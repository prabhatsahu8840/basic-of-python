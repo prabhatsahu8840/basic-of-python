{
  "nbformat": 4,
  "nbformat_minor": 0,
  "metadata": {
    "colab": {
      "provenance": []
    },
    "kernelspec": {
      "name": "python3",
      "display_name": "Python 3"
    },
    "language_info": {
      "name": "python"
    }
  },
  "cells": [
    {
      "cell_type": "markdown",
      "source": [
        "     Basics of python\n",
        "\n",
        "Ques 1= What is Python, and why is it popular?\n",
        "ANS   =Python is a high Python is a high-level, interpreted, general-purpose programming language known for its simplicity, readability, and versatility.\n",
        "Python is one of the most widely used programming languages due to its simplicity, versatility, an, extensive community supportand extensive libaries and frameworks,demand in market's jobs.\n",
        "\n",
        "Ques 2= What is an interpreter in Python?\n",
        "Ans   = An interpreter in Python is a program that executes Python code line by line instead of compiling the entire code at once.\n",
        "It makes the python an interpreted languages, like as.\n",
        " Code execution at runtime ,\n",
        " Error are detected at runtime.\n",
        "\n",
        " Ques 3= What are pre-defined keywords in Python?\n",
        " Ans   = Keywords in Python are reserved words that have special meanings and cannot be used as variable names, function names, or identifiers. These keywords are responsible for determining the structure and syntax of Python programs. Like as,\n",
        "Control flow keywords\n",
        "Exception handling kaywords\n",
        "Function and classkeyword\n",
        "important and module keywords\n",
        "logical and membership operators\n",
        "\n",
        "Ques 4= Can keywords be used as variable names?\n",
        "Ans   = No, Python keywords cannot be used as variable names because they have predefined meanings in the language. When you attempt to declare a variable with a keyword as its name, python will raise a syntax Error.\n",
        "\n",
        " Ques 5= What is mutability in Python?\n",
        " Ans   = In Python, mutability refers to whether an object’s value can be changed after it is created.\n",
        "  Mutable objects → Can be modified after creation.\n",
        "\n",
        " Ques 6= Why are lists mutable, but tuples are immutable?\n",
        " Ans   = Lists of mutable → You can change add, or remove elements after the list is created.\n",
        " when data should remain changed\n",
        "Tuples are immutable → Once created their elements cannot be changed, added, or removed.\n",
        "when data should remain unchanged.\n",
        "\n",
        "Ques 7= What is the difference between “==” and “is” operators in Python?\n",
        "Ans   = \"==\"is a (Equality operator) when checking if two objects have the same content.\n",
        " \"is\" is a (identity operator) when checking if two variable point to the same memory location.\n",
        "\n",
        " Ques 8=  What are logical operators in Python?\n",
        " Ans   = Logical operators in Python are used to combine conditional statements.\n",
        " There are three logical operators;\n",
        " and\n",
        " or\n",
        " not\n",
        ". not > and > or (Highest to Lowest)\n",
        "\n",
        "Ques 9=What is type casting in Python?\n",
        "Ans   = Type casting (also called type conversion) in Python is the process of converting one data type into another.\n",
        "Python is provides the two types of casting;\n",
        "(1) Explicit Type Casting\n",
        "(2) Implicit Type Casting\n",
        "\n",
        "Ques 10= What is the difference between implicit and explicit type casting?\n",
        "Ans    = Implicit conversion is automatic and happens only when safe.\n",
        "Python is automatically converts one data type to another.\n",
        "\n",
        "Explicit conversion is controlled by the programmer and may cause errors if not handled properly.\n",
        "The user manually converts one data type to another.\n",
        "\n",
        "Ques 11= What is the purpose of conditional statements in Python?\n",
        "Ans    = Conditional statements in Python control the flow of execution based on specific conditions. They allow a program to make decisions and execute different blocks of code accordingly.\n",
        "\n",
        "  CONDITIONAL STATEMENT ARE THE IMPORTANT=\n",
        "(1) Decision making\n",
        "(2 Code efficiency\n",
        "(3) User interaction\n",
        "\n",
        "Ques 12= How does the elif statement work?\n",
        "Ans    = The elif (else if) statement allows multiple conditions to be checked one after another. It is used when there are multiple possible conditions, and we want to execute only one block based on the first True condition.\n",
        "\n",
        "= elif is the work in internally\n",
        "1. The if condition is checked first.\n",
        "2. If if is False, Python moves to the first elif condition.\n",
        "3. If the first elif is False, it checks the next elif (and so on).\n",
        "4. If no if or elif conditions are True, the else block executes (if present).\n",
        "\n",
        "Ques 13= What is the difference between for and while loops?\n",
        "Ans    = for loop=\n",
        "\"for loop\" is best for definite iteration (when we know how many times to loop).\n",
        "for loops work well with sequences (lists, tuples, strings).\n",
        "\n",
        "while loop=\n",
        "\"while loop\" is best for indefinite iteration (when we loop until a condition is met).\n",
        "while loops work well with conditions.\n",
        "\n",
        "Ques 14=  Describe a scenario where a while loop is more suitable than a for loop?\n",
        "Ans    = A while loop is the best choice here.\n",
        "Imagine a system where a user must enter the correct password to log in. The number of attempts is not fixed—the loop should continue until the user enters the correct password.\n",
        "\n",
        "Because=\n",
        "We don't know how many attempts the user will take.\n",
        "The loop should run until a condition is metv (correct password).\n",
        "\n",
        "             \n",
        "             Practical Questions\n",
        "             "
      ],
      "metadata": {
        "id": "kbqu0M1RPIAT"
      }
    },
    {
      "cell_type": "code",
      "source": [
        "Ques_1 = \"Write a Python program to print 'Hello, World!'\"\n",
        "print(\"hello, world!\")"
      ],
      "metadata": {
        "colab": {
          "base_uri": "https://localhost:8080/"
        },
        "id": "D7kSafmwuIhd",
        "outputId": "3faad479-19e3-425b-ff68-f2542415a0b5"
      },
      "execution_count": null,
      "outputs": [
        {
          "output_type": "stream",
          "name": "stdout",
          "text": [
            "hello, world!\n"
          ]
        }
      ]
    },
    {
      "cell_type": "code",
      "source": [
        "Ques 2= Write a Python program that displays your name and age?\n",
        "name = \"daga black\"\n",
        "age =24\n",
        "print(\"my name is\" ,name)\n",
        "print(\"i am\",age)"
      ],
      "metadata": {
        "colab": {
          "base_uri": "https://localhost:8080/"
        },
        "id": "Kyh3aER_sYP0",
        "outputId": "87dccf93-5e03-45e4-b69d-938fb836d550"
      },
      "execution_count": null,
      "outputs": [
        {
          "output_type": "stream",
          "name": "stdout",
          "text": [
            "my name is daga black\n",
            "i am 24\n"
          ]
        }
      ]
    },
    {
      "cell_type": "code",
      "source": [
        "Ques 3= Write code to print all the pre-defined keywords in Python using the keyword library?\n",
        "keywords = keyword.kwlist\n",
        "print(keywords)"
      ],
      "metadata": {
        "colab": {
          "base_uri": "https://localhost:8080/"
        },
        "id": "cDyqK-lZuG81",
        "outputId": "b4f13084-a7ed-41b7-ba8d-a7ff69d07362"
      },
      "execution_count": null,
      "outputs": [
        {
          "output_type": "stream",
          "name": "stdout",
          "text": [
            "Object `library` not found.\n",
            "['False', 'None', 'True', 'and', 'as', 'assert', 'async', 'await', 'break', 'class', 'continue', 'def', 'del', 'elif', 'else', 'except', 'finally', 'for', 'from', 'global', 'if', 'import', 'in', 'is', 'lambda', 'nonlocal', 'not', 'or', 'pass', 'raise', 'return', 'try', 'while', 'with', 'yield']\n"
          ]
        }
      ]
    },
    {
      "cell_type": "code",
      "source": [
        "Ques 4= Write a program that checks if a given word is a Python keyword?\n",
        "world = input (\"f\")\n",
        "print(f\" '{world}'is a python keyword\")\n"
      ],
      "metadata": {
        "colab": {
          "base_uri": "https://localhost:8080/"
        },
        "id": "E6NhUbwtvMCZ",
        "outputId": "a304ec62-6b47-4fb6-bb09-252d6cdbc1e8"
      },
      "execution_count": null,
      "outputs": [
        {
          "output_type": "stream",
          "name": "stdout",
          "text": [
            "f\n",
            " ''is a python keyword\n"
          ]
        }
      ]
    },
    {
      "cell_type": "code",
      "source": [
        "Ques 5 = Create a list and tuple in Python, and demonstrate how attempting to change an element works differently\\\n",
        "for each?\n",
        "my_list = [1, 2, 3, 4]\n",
        "print(\"Original List:\", my_list)\n",
        "my_list[1] = 99\n",
        "print(\"Modified List:\", my_list)\n",
        "\n",
        "my_tuple = (1, 2, 3, 4)\n",
        "print(\"Original Tuple:\", my_tuple)\n",
        "# Attempting to modify a tuple element will raise a TypeError\n",
        "# my_tuple[1] = 99\n",
        "# print(\"Modified Tuple:\", my_tuple)\n",
        "\n",
        "\n"
      ],
      "metadata": {
        "colab": {
          "base_uri": "https://localhost:8080/"
        },
        "id": "VQNse8oPzZ-w",
        "outputId": "e97f1cf6-5b0e-4bca-a5b6-d88ed9e7e9f0"
      },
      "execution_count": null,
      "outputs": [
        {
          "output_type": "stream",
          "name": "stdout",
          "text": [
            "Object `each` not found.\n",
            "Original List: [1, 2, 3, 4]\n",
            "Modified List: [1, 99, 3, 4]\n",
            "Original Tuple: (1, 2, 3, 4)\n"
          ]
        }
      ]
    },
    {
      "cell_type": "code",
      "source": [
        "Ques 6= Write a function to demonstrate the behavior of mutable and immutable arguments?\n",
        " def modfify_values(lst, num):\n",
        "    lst.append(99)\n",
        "    num += 10\n",
        "    print(\"inside function - list:\", lst)\n",
        "    print(\"inside function - number:\", num)\n",
        "my_list = [1, 2, 3, ]\n",
        "my_number = 5\n",
        "print(\"before function call - number:\", my_number)\n",
        "print(\"before function call-number:\",my_number)\n",
        "modify_values(my_list, my_number)\n",
        "print(\"after function call-list:\",my_list)\n",
        "print(\"after function call-number:\",my_number)\n"
      ],
      "metadata": {
        "colab": {
          "base_uri": "https://localhost:8080/"
        },
        "id": "c87FyOWk5zKg",
        "outputId": "40e2295e-e3d5-4341-b9ad-e416e8d30826"
      },
      "execution_count": null,
      "outputs": [
        {
          "output_type": "stream",
          "name": "stdout",
          "text": [
            "Object `arguments` not found.\n",
            "before function call - number: 5\n",
            "before function call-number: 5\n",
            "inside function - list: [1, 2, 3, 99]\n",
            "inside function - number: 15\n",
            "after function call-list: [1, 2, 3, 99]\n",
            "after function call-number: 5\n"
          ]
        }
      ]
    },
    {
      "cell_type": "code",
      "source": [
        "Ques 7=  Write a function to demonstrate the behavior of mutable and immutable arguments?\n",
        "def modfify_values(lst, num):\n",
        "    lst.append(99)\n",
        "    num += 10\n",
        "    print(\"inside function - list:\", lst)\n",
        "    print(\"inside function - number:\", num)\n",
        "my_list = [1, 2, 3, ]\n",
        "my_number = 5\n",
        "print(\"before function call - number:\", my_number)\n",
        "print(\"before function call-number:\",my_number)\n",
        "modify_values(my_list, my_number)\n",
        "print(\"after function call-list:\",my_list)\n",
        "print(\"after function call-number:\",my_number)\n"
      ],
      "metadata": {
        "colab": {
          "base_uri": "https://localhost:8080/"
        },
        "id": "RWkQLi3CMXQj",
        "outputId": "5686657c-f941-400f-d074-82f22e50a9ea"
      },
      "execution_count": null,
      "outputs": [
        {
          "output_type": "stream",
          "name": "stdout",
          "text": [
            "Object `arguments` not found.\n",
            "before function call - number: 5\n",
            "before function call-number: 5\n",
            "inside function - list: [1, 2, 3, 99]\n",
            "inside function - number: 15\n",
            "after function call-list: [1, 2, 3, 99]\n",
            "after function call-number: 5\n"
          ]
        }
      ]
    },
    {
      "cell_type": "code",
      "source": [
        "Ques 8= Write a program to demonstrate the use of logical operators?\n",
        "# Define variables\n",
        "a = True\n",
        "b = False\n",
        "x = 10\n",
        "y = 5\n",
        "\n",
        "# Logical AND (both conditions must be True)\n",
        "print(\"Logical AND:\")\n",
        "print(a and b)\n",
        "print(x > 5 and y < 10)\n",
        "\n",
        "# Logical OR (at least one condition must be True)\n",
        "print(\"\\nLogical OR:\")\n",
        "print(a or b)\n",
        "print(x < 5 or y < 10)\n",
        "\n",
        "# Logical NOT (reverses the condition)\n",
        "print(\"\\nLogical NOT:\")\n",
        "print(not a)\n",
        "print(not b)\n",
        "print(not (x > y))"
      ],
      "metadata": {
        "colab": {
          "base_uri": "https://localhost:8080/"
        },
        "id": "EIv0gCNKNQfS",
        "outputId": "f5bb7242-6300-41b9-a488-9522fc171939"
      },
      "execution_count": null,
      "outputs": [
        {
          "output_type": "stream",
          "name": "stdout",
          "text": [
            "Object `operators` not found.\n",
            "Logical AND:\n",
            "False\n",
            "True\n",
            "\n",
            "Logical OR:\n",
            "True\n",
            "True\n",
            "\n",
            "Logical NOT:\n",
            "False\n",
            "True\n",
            "False\n"
          ]
        }
      ]
    },
    {
      "cell_type": "code",
      "source": [
        "Ques 9=Write a Python program to convert user input from string to integer, float, and boolean types?\n",
        "\n",
        "# Get user input\n",
        "user_input = input(25)\n",
        "\n",
        "# Convert to integer\n",
        "try:\n",
        "    int_value = int(user_input)\n",
        "except ValueError:\n",
        "    int_value = \"Cannot convert to Integer\"\n",
        "\n",
        "# Convert to float\n",
        "try:\n",
        "    float_value = float(user_input)\n",
        "except ValueError:\n",
        "    float_value = \"Cannot convert to Float\"\n",
        "\n",
        "# Convert to boolean\n",
        "bool_value = bool(user_input.strip())  # Empty string results in False, otherwise True\n",
        "\n",
        "# Display results\n",
        "print(\"\\nConverted Values:\")\n",
        "print(\"Integer:\", int_value)\n",
        "print(\"Float:\", float_value)\n",
        "print(\"Boolean:\", bool_value)\n",
        "\n",
        "try:\n",
        "    int_value = int(25)\n",
        "except ValueError:\n",
        "    int_value = \"25\"\n",
        "\n",
        "# Convert to float\n",
        "try:\n",
        "    float_value = float(25)\n",
        "except ValueError:\n",
        "    float_value = \"25\"\n",
        "\n",
        "# Convert to boolean\n",
        "bool_value = bool(user_input.strip())  # Empty string results in False, otherwise True\n",
        "\n",
        "# Display results\n",
        "print(\"\\nConverted Values:\")\n",
        "print(\"Integer:\", int_value)\n",
        "print(\"Float:\", float_value)\n",
        "print(\"Boolean:\", bool_value)"
      ],
      "metadata": {
        "colab": {
          "base_uri": "https://localhost:8080/"
        },
        "id": "QY0JJVmMVuKe",
        "outputId": "8050d852-b484-409f-b8e4-6f6f577dc8f7"
      },
      "execution_count": null,
      "outputs": [
        {
          "output_type": "stream",
          "name": "stdout",
          "text": [
            "Object `types` not found.\n",
            "2525\n",
            "\n",
            "Converted Values:\n",
            "Integer: 25\n",
            "Float: 25.0\n",
            "Boolean: True\n",
            "\n",
            "Converted Values:\n",
            "Integer: 25\n",
            "Float: 25.0\n",
            "Boolean: True\n"
          ]
        }
      ]
    },
    {
      "cell_type": "code",
      "source": [
        "Ques 10= Write code to demonstrate type casting with list elements?\n",
        "# Original list with mixed data types\n",
        "data_list = [\"10\", \"20.5\", \"True\", \"Hello\", \"0\"]\n",
        "\n",
        "# Type casting each element in the list\n",
        "converted_list = []\n",
        "\n",
        "for item in data_list:\n",
        "    try:\n",
        "        int_value = int(item)  # Attempt to convert to integer\n",
        "    except ValueError:\n",
        "        int_value = \"Cannot convert to Integer\"\n",
        "\n",
        "    try:\n",
        "        float_value = float(item)  # Attempt to convert to float\n",
        "    except ValueError:\n",
        "        float_value = \"Cannot convert to Float\"\n",
        "\n",
        "    bool_value = bool(item.strip()) if isinstance(item, str) else bool(item)  # Convert to boolean\n",
        "\n",
        "    # Append results as a tuple\n",
        "    converted_list.append((item, int_value, float_value, bool_value))\n",
        "\n",
        "# Display results\n",
        "print(\"\\nType Casting Results:\")\n",
        "print(\"Original  | Integer   | Float     | Boolean\")\n",
        "print(\"--------------------------------------------\")\n",
        "for item, int_val, float_val, bool_val in converted_list:\n",
        "    print(f\"{item:8} | {int_val:10} | {float_val:10} | {bool_val}\")\n"
      ],
      "metadata": {
        "colab": {
          "base_uri": "https://localhost:8080/"
        },
        "id": "nHob13nJWko-",
        "outputId": "b301978e-a9d0-4c81-9d41-aa241ec89de8"
      },
      "execution_count": null,
      "outputs": [
        {
          "output_type": "stream",
          "name": "stdout",
          "text": [
            "Object `elements` not found.\n",
            "\n",
            "Type Casting Results:\n",
            "Original  | Integer   | Float     | Boolean\n",
            "--------------------------------------------\n",
            "10       |         10 |       10.0 | True\n",
            "20.5     | Cannot convert to Integer |       20.5 | True\n",
            "True     | Cannot convert to Integer | Cannot convert to Float | True\n",
            "Hello    | Cannot convert to Integer | Cannot convert to Float | True\n",
            "0        |          0 |        0.0 | True\n"
          ]
        }
      ]
    },
    {
      "cell_type": "code",
      "source": [
        "Ques 11= Write a program that checks if a number is positive, negative, or zero?\n",
        "# Take user input\n",
        "num = float(input(\"10: \"))\n",
        "\n",
        "# Check conditions\n",
        "if num > 0:\n",
        "    print(\"The number is Positive.\")\n",
        "elif num < 0:\n",
        "    print(\"The number is Negative.\")\n",
        "else:\n",
        "    print(\"The number is Zero.\")"
      ],
      "metadata": {
        "colab": {
          "base_uri": "https://localhost:8080/"
        },
        "id": "faMTf9rqYRIG",
        "outputId": "b5c7f486-eedf-402b-922f-f5a513563a96"
      },
      "execution_count": null,
      "outputs": [
        {
          "output_type": "stream",
          "name": "stdout",
          "text": [
            "Object `zero` not found.\n",
            "10: 10\n",
            "The number is Positive.\n"
          ]
        }
      ]
    },
    {
      "cell_type": "code",
      "source": [
        "# Using a for loop to print numbers from 1 to 10\n",
        "for num in range(1, 11):\n",
        "    print(num)\n",
        "\n",
        "    print(num)"
      ],
      "metadata": {
        "colab": {
          "base_uri": "https://localhost:8080/"
        },
        "id": "nsGedt16bsef",
        "outputId": "5b880bc5-bfc6-41ba-ab05-238d8efc30c5"
      },
      "execution_count": null,
      "outputs": [
        {
          "output_type": "stream",
          "name": "stdout",
          "text": [
            "1\n",
            "1\n",
            "2\n",
            "2\n",
            "3\n",
            "3\n",
            "4\n",
            "4\n",
            "5\n",
            "5\n",
            "6\n",
            "6\n",
            "7\n",
            "7\n",
            "8\n",
            "8\n",
            "9\n",
            "9\n",
            "10\n",
            "10\n"
          ]
        }
      ]
    },
    {
      "cell_type": "code",
      "source": [
        "# Ques 13= Write a Python program to find the sum of all even numbers between 1 and 50?\n",
        "# Initialize sum variable\n",
        "even_sum = 0\n",
        "# Loop through even numbers from 1 to 50\n",
        "for num in range(2, 51, 2):  # Step of 2 ensures only even numbers are selected\n",
        "    even_sum += num\n",
        "\n",
        "# Display the result\n",
        "print(\"The sum of all even numbers between 1 and 50 is:\", even_sum)"
      ],
      "metadata": {
        "colab": {
          "base_uri": "https://localhost:8080/"
        },
        "id": "7fpNpMlQczcs",
        "outputId": "334b6210-1524-418f-a366-82cee6fc25d9"
      },
      "execution_count": null,
      "outputs": [
        {
          "output_type": "stream",
          "name": "stdout",
          "text": [
            "The sum of all even numbers between 1 and 50 is: 650\n"
          ]
        }
      ]
    },
    {
      "cell_type": "code",
      "source": [
        "Ques 14= Write a program to reverse a string using a while loop?\n",
        "# Take user input\n",
        "string = input(\"hello: \")\n",
        "\n",
        "# Initialize variables\n",
        "reversed_string = \"\"\n",
        "index = len(string) - 1  # Start from the last character\n",
        "\n",
        "# Reverse the string using a while loop\n",
        "while index >= 0:\n",
        "    reversed_string += string[index]\n",
        "    index -= 1  # Move to the previous character\n",
        "\n",
        "# Display the reversed string\n",
        "print(\"Reversed String:\", reversed_string)"
      ],
      "metadata": {
        "colab": {
          "base_uri": "https://localhost:8080/"
        },
        "id": "ShALtCESdq2i",
        "outputId": "8a0b68f1-ac1a-49e7-ec72-628fdd3d7fbf"
      },
      "execution_count": null,
      "outputs": [
        {
          "output_type": "stream",
          "name": "stdout",
          "text": [
            "Object `loop` not found.\n",
            "hello: hello\n",
            "Reversed String: olleh\n"
          ]
        }
      ]
    },
    {
      "cell_type": "code",
      "source": [
        "Ques 15= 0 Write a Python program to calculate the factorial of a number provided by the user using a while loop?\n",
        "# Take user input\n",
        "num = int(input(\"5: \"))\n",
        "\n",
        "# Initialize variables\n",
        "factorial = 1\n",
        "i = num\n",
        "\n",
        "# Calculate factorial using a while loop\n",
        "if num < 0:\n",
        "    print(\"Factorial is not defined for negative numbers.\")\n",
        "elif num == 0 or num == 1:\n",
        "    print(\"The factorial of\", num, \"is 1\")\n",
        "else:\n",
        "    while i > 1:\n",
        "        factorial *= i\n",
        "        i -= 1  # Decrease the counter\n",
        "\n",
        "    # Display the result\n",
        "    print(\"The factorial of\", num, \"is\", factorial)"
      ],
      "metadata": {
        "colab": {
          "base_uri": "https://localhost:8080/"
        },
        "id": "fvUqFqgUeSs9",
        "outputId": "9c22b94c-c50f-45c3-e114-3454e1696f63"
      },
      "execution_count": null,
      "outputs": [
        {
          "output_type": "stream",
          "name": "stdout",
          "text": [
            "Object `loop` not found.\n",
            "5: 0\n",
            "The factorial of 0 is 1\n"
          ]
        }
      ]
    }
  ]
}